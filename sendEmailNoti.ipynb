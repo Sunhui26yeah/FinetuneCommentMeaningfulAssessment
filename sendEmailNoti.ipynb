{
 "cells": [
  {
   "cell_type": "code",
   "id": "initial_id",
   "metadata": {
    "collapsed": true,
    "ExecuteTime": {
     "end_time": "2025-04-23T01:26:34.856849Z",
     "start_time": "2025-04-23T01:26:30.907659Z"
    }
   },
   "source": [
    "import torch\n",
    "from transformers import BertTokenizer, BertForSequenceClassification\n",
    "import smtplib\n",
    "from email.mime.text import MIMEText\n",
    "from email.mime.multipart import MIMEMultipart\n",
    "from dotenv import load_dotenv\n",
    "import os\n",
    "\n",
    "\n",
    "load_dotenv()\n",
    "sender_email = os.getenv(\"SENDER_EMAIL\")\n",
    "sender_password = os.getenv(\"SENDER_PASSWORD\")\n",
    "\n",
    "\n",
    "your_text = \"Run Travis\"\n",
    "pr_link = \"https://github.com/apache/flink/pull/9900\"\n",
    "receiver_email = \"huisun.uf@gmail.com\"\n",
    "\n",
    "\n",
    "device = torch.device(\"cuda\" if torch.cuda.is_available() else \"cpu\")\n",
    "\n",
    "tokenizer = BertTokenizer.from_pretrained('bert-base-uncased', do_lower_case=True)\n",
    "model = BertForSequenceClassification.from_pretrained(\"bert-base-uncased\", num_labels=2)\n",
    "model.load_state_dict(torch.load('finetuned_BERT_epoch_5.model', map_location=device))\n",
    "model.to(device)\n",
    "model.eval()\n",
    "\n",
    "\n",
    "encoded = tokenizer.encode_plus(\n",
    "    your_text,\n",
    "    add_special_tokens=True,\n",
    "    max_length=128,\n",
    "    padding='max_length',\n",
    "    truncation=True,\n",
    "    return_attention_mask=True,\n",
    "    return_tensors='pt'\n",
    ")\n",
    "\n",
    "input_ids = encoded['input_ids'].to(device)\n",
    "attention_mask = encoded['attention_mask'].to(device)\n",
    "\n",
    "with torch.no_grad():\n",
    "    output = model(input_ids=input_ids, attention_mask=attention_mask)\n",
    "\n",
    "logits = output.logits\n",
    "predicted_class_id = torch.argmax(logits, dim=1).item()\n",
    "\n",
    "\n",
    "subject = \"[GitHub][Important] You have received a comment in a PR, the comment is important.\" \\\n",
    "    if predicted_class_id == 1 else \\\n",
    "    \"[GitHub][Ignore] You have received a comment in a PR, the comment can be ignore.\"\n",
    "\n",
    "body = f\"\"\"Hi there,\n",
    "\n",
    "You have received a new comment in a GitHub pull request:\n",
    "\n",
    "\"{your_text}\"\n",
    "\n",
    "Pull Request Link: {pr_link}\n",
    "\n",
    "Regards,\n",
    "Your Friendly AI Reviewer 🤖\n",
    "\"\"\"\n",
    "\n",
    "\n",
    "msg = MIMEMultipart()\n",
    "msg['From'] = sender_email\n",
    "msg['To'] = receiver_email\n",
    "msg['Subject'] = subject\n",
    "msg.attach(MIMEText(body, 'plain'))\n",
    "\n",
    "try:\n",
    "    with smtplib.SMTP(\"smtp.gmail.com\", 587) as server:\n",
    "        server.starttls()\n",
    "        server.login(sender_email, sender_password)\n",
    "        server.send_message(msg)\n",
    "    print(f\"✅ Email sent to {receiver_email} with subject:\\n{subject}\")\n",
    "except Exception as e:\n",
    "    print(\"❌ Failed to send email:\", e)\n"
   ],
   "outputs": [
    {
     "name": "stderr",
     "output_type": "stream",
     "text": [
      "Some weights of BertForSequenceClassification were not initialized from the model checkpoint at bert-base-uncased and are newly initialized: ['classifier.bias', 'classifier.weight']\n",
      "You should probably TRAIN this model on a down-stream task to be able to use it for predictions and inference.\n",
      "C:\\Users\\huisu\\AppData\\Local\\Temp\\ipykernel_14892\\3122763918.py:24: FutureWarning: You are using `torch.load` with `weights_only=False` (the current default value), which uses the default pickle module implicitly. It is possible to construct malicious pickle data which will execute arbitrary code during unpickling (See https://github.com/pytorch/pytorch/blob/main/SECURITY.md#untrusted-models for more details). In a future release, the default value for `weights_only` will be flipped to `True`. This limits the functions that could be executed during unpickling. Arbitrary objects will no longer be allowed to be loaded via this mode unless they are explicitly allowlisted by the user via `torch.serialization.add_safe_globals`. We recommend you start setting `weights_only=True` for any use case where you don't have full control of the loaded file. Please open an issue on GitHub for any issues related to this experimental feature.\n",
      "  model.load_state_dict(torch.load('finetuned_BERT_epoch_5.model', map_location=device))\n"
     ]
    },
    {
     "name": "stdout",
     "output_type": "stream",
     "text": [
      "✅ Email sent to huisun.uf@gmail.com with subject:\n",
      "[GitHub] You have received a comment in a PR, the comment can be ignore.\n"
     ]
    }
   ],
   "execution_count": 2
  }
 ],
 "metadata": {
  "kernelspec": {
   "display_name": "Python 3",
   "language": "python",
   "name": "python3"
  },
  "language_info": {
   "codemirror_mode": {
    "name": "ipython",
    "version": 2
   },
   "file_extension": ".py",
   "mimetype": "text/x-python",
   "name": "python",
   "nbconvert_exporter": "python",
   "pygments_lexer": "ipython2",
   "version": "2.7.6"
  }
 },
 "nbformat": 4,
 "nbformat_minor": 5
}
